{
 "cells": [
  {
   "cell_type": "code",
   "execution_count": 4,
   "metadata": {
    "collapsed": false
   },
   "outputs": [
    {
     "name": "stdout",
     "output_type": "stream",
     "text": [
      "\n",
      "Directories and names\n",
      "\n"
     ]
    }
   ],
   "source": [
    "import os\n",
    "os.environ['QT_API'] = 'pyqt'\n",
    "os.environ['ETS_TOOLKIT'] = 'qt4'\n",
    "#os.environ['SUBJECTS_DIR'] = \"/path/to/subjects\"\n",
    "\n",
    "import sip\n",
    "sip.setapi('QDate',2)\n",
    "\n",
    "import os\n",
    "import os.path as op\n",
    "import numpy as np\n",
    "from numpy import arange\n",
    "from numpy.random import permutation\n",
    "import nibabel as nib\n",
    "from surfer import Brain, utils\n",
    "import pandas as pd\n",
    "print(__doc__)\n",
    "\n",
    "\n",
    "%gui qt"
   ]
  },
  {
   "cell_type": "code",
   "execution_count": 114,
   "metadata": {
    "collapsed": true
   },
   "outputs": [],
   "source": [
    "\"\"\"\n",
    "Directories and names\n",
    "\"\"\"\n",
    "subject_id = \"fsaverage\"\n",
    "subjects_dir = os.environ[\"SUBJECTS_DIR\"]\n",
    "\n",
    "#csv files containing target coordinates\n",
    "lh_file = '/Users/thackery/Dropbox/scripts/plotting/PySurfer_plottingscripts/lh_coords2.csv'\n",
    "rh_file = '/Users/thackery/Dropbox/scripts/plotting/PySurfer_plottingscripts/rh_coords2.csv'\n",
    "\n"
   ]
  },
  {
   "cell_type": "code",
   "execution_count": 115,
   "metadata": {
    "collapsed": true
   },
   "outputs": [],
   "source": [
    "\"\"\"\n",
    "Flags and UI\n",
    "\"\"\"\n",
    "\n",
    "#Set number of datasets (studies, conditions, any other grouping for individual coordinate spheres)\n",
    "ndatasets = 4#9#\n",
    "\n",
    "#set a scaling factor for spheres. Sizes from 0.25 - 0.5 yield decent results\n",
    "blobscale = 0.35\n",
    "\n",
    "#flag for using custom (relative) blob sizes per sphere (e.g., from different recorded cluster extents)\n",
    "resizeblobs = 0"
   ]
  },
  {
   "cell_type": "code",
   "execution_count": 127,
   "metadata": {
    "collapsed": false
   },
   "outputs": [],
   "source": [
    "\"\"\"\n",
    "read in coordinate data\n",
    "\"\"\"\n",
    "#data should be structured with 5 columns - x y z grp scale\n",
    "#grp is a grouping factor you choose - same study, same cognitive process, whatever\n",
    "#scale is a scaling factor used when \"resizeblobs=1\" - could be t-value magnitude, cluster size (k), whatever\n",
    "lh_dat = pd.read_csv(lh_file)\n",
    "rh_dat = pd.read_csv(rh_file)"
   ]
  },
  {
   "cell_type": "code",
   "execution_count": 117,
   "metadata": {
    "collapsed": false
   },
   "outputs": [
    {
     "data": {
      "text/html": [
       "<div>\n",
       "<table border=\"1\" class=\"dataframe\">\n",
       "  <thead>\n",
       "    <tr style=\"text-align: right;\">\n",
       "      <th></th>\n",
       "      <th>x</th>\n",
       "      <th>y</th>\n",
       "      <th>z</th>\n",
       "      <th>grp</th>\n",
       "      <th>scale</th>\n",
       "    </tr>\n",
       "  </thead>\n",
       "  <tbody>\n",
       "    <tr>\n",
       "      <th>0</th>\n",
       "      <td>26</td>\n",
       "      <td>57</td>\n",
       "      <td>-8</td>\n",
       "      <td>1</td>\n",
       "      <td>45</td>\n",
       "    </tr>\n",
       "    <tr>\n",
       "      <th>1</th>\n",
       "      <td>28</td>\n",
       "      <td>38</td>\n",
       "      <td>31</td>\n",
       "      <td>1</td>\n",
       "      <td>45</td>\n",
       "    </tr>\n",
       "    <tr>\n",
       "      <th>2</th>\n",
       "      <td>28</td>\n",
       "      <td>55</td>\n",
       "      <td>-1</td>\n",
       "      <td>1</td>\n",
       "      <td>45</td>\n",
       "    </tr>\n",
       "    <tr>\n",
       "      <th>3</th>\n",
       "      <td>30</td>\n",
       "      <td>57</td>\n",
       "      <td>-5</td>\n",
       "      <td>0</td>\n",
       "      <td>45</td>\n",
       "    </tr>\n",
       "    <tr>\n",
       "      <th>4</th>\n",
       "      <td>36</td>\n",
       "      <td>63</td>\n",
       "      <td>6</td>\n",
       "      <td>0</td>\n",
       "      <td>5</td>\n",
       "    </tr>\n",
       "  </tbody>\n",
       "</table>\n",
       "</div>"
      ],
      "text/plain": [
       "    x   y   z  grp  scale\n",
       "0  26  57  -8    1     45\n",
       "1  28  38  31    1     45\n",
       "2  28  55  -1    1     45\n",
       "3  30  57  -5    0     45\n",
       "4  36  63   6    0      5"
      ]
     },
     "execution_count": 117,
     "metadata": {},
     "output_type": "execute_result"
    }
   ],
   "source": [
    "\"\"\"\n",
    "visualize dataframe\n",
    "\"\"\"\n",
    "rh_dat.head()"
   ]
  },
  {
   "cell_type": "code",
   "execution_count": 133,
   "metadata": {
    "collapsed": false
   },
   "outputs": [
    {
     "data": {
      "text/html": [
       "<div>\n",
       "<table border=\"1\" class=\"dataframe\">\n",
       "  <thead>\n",
       "    <tr style=\"text-align: right;\">\n",
       "      <th></th>\n",
       "      <th>x</th>\n",
       "      <th>y</th>\n",
       "      <th>z</th>\n",
       "      <th>grp</th>\n",
       "      <th>scale</th>\n",
       "    </tr>\n",
       "  </thead>\n",
       "  <tbody>\n",
       "    <tr>\n",
       "      <th>0</th>\n",
       "      <td>-10</td>\n",
       "      <td>66</td>\n",
       "      <td>8</td>\n",
       "      <td>0</td>\n",
       "      <td>5</td>\n",
       "    </tr>\n",
       "    <tr>\n",
       "      <th>1</th>\n",
       "      <td>18</td>\n",
       "      <td>57</td>\n",
       "      <td>0</td>\n",
       "      <td>0</td>\n",
       "      <td>5</td>\n",
       "    </tr>\n",
       "    <tr>\n",
       "      <th>2</th>\n",
       "      <td>-18</td>\n",
       "      <td>58</td>\n",
       "      <td>-8</td>\n",
       "      <td>3</td>\n",
       "      <td>10</td>\n",
       "    </tr>\n",
       "    <tr>\n",
       "      <th>3</th>\n",
       "      <td>-24</td>\n",
       "      <td>62</td>\n",
       "      <td>22</td>\n",
       "      <td>1</td>\n",
       "      <td>19</td>\n",
       "    </tr>\n",
       "    <tr>\n",
       "      <th>4</th>\n",
       "      <td>-9</td>\n",
       "      <td>59</td>\n",
       "      <td>28</td>\n",
       "      <td>0</td>\n",
       "      <td>383</td>\n",
       "    </tr>\n",
       "  </tbody>\n",
       "</table>\n",
       "</div>"
      ],
      "text/plain": [
       "    x   y   z  grp  scale\n",
       "0 -10  66   8    0      5\n",
       "1  18  57   0    0      5\n",
       "2 -18  58  -8    3     10\n",
       "3 -24  62  22    1     19\n",
       "4  -9  59  28    0    383"
      ]
     },
     "execution_count": 133,
     "metadata": {},
     "output_type": "execute_result"
    }
   ],
   "source": [
    "lh_dat.head()"
   ]
  },
  {
   "cell_type": "code",
   "execution_count": 128,
   "metadata": {
    "collapsed": false
   },
   "outputs": [
    {
     "name": "stdout",
     "output_type": "stream",
     "text": [
      "[[26, 57, -8], [28, 38, 31], [28, 55, -1], [30, 57, -5], [36, 63, 6], [27, 62, 22], [9, 59, 34], [26, 64, 10], [30, 52, 8], [30, 48, 8], [20, 68, 10], [32, 56, 0], [36, 54, 18], [38, 62, 8]]\n",
      "[[-10, 66, 8], [18, 57, 0], [-18, 58, -8], [-24, 62, 22], [-9, 59, 28], [-21, 56, -8], [-34, 52, -4], [-30, 62, 18], [-40, 52, 8]]\n"
     ]
    }
   ],
   "source": [
    "'''\n",
    "convert coords to numpy lists\n",
    "'''\n",
    "\n",
    "rh_dat_coords = rh_dat[['x', 'y', 'z']]\n",
    "#rh_dat_coords.head\n",
    "coords_rh = rh_dat_coords.values.tolist()\n",
    "print(coords_rh)\n",
    "\n",
    "#coords_rh_studkey = rh_dat.grp.tolist()\n",
    "#coords_rh_sz_key = rh_dat.scale.tolist()\n",
    "\n",
    "lh_dat_coords = lh_dat[['x', 'y', 'z']]\n",
    "coords_lh = lh_dat_coords.values.tolist()\n",
    "print(coords_lh)"
   ]
  },
  {
   "cell_type": "code",
   "execution_count": 119,
   "metadata": {
    "collapsed": true
   },
   "outputs": [],
   "source": [
    "\"\"\"\n",
    "Create generator of unique RGB colors for plotting objects (such as coordinate spheres)\n",
    "\"\"\"\n",
    "\n",
    "import math\n",
    "\n",
    "v = 1.0\n",
    "s = 1.0\n",
    "p = 0.0\n",
    "def rgbcolor(h, f):\n",
    "    \"\"\"Convert a color specified by h-value and f-value to an RGB\n",
    "    three-tuple.\"\"\"\n",
    "    # q = 1 - f\n",
    "    # t = f\n",
    "    if h == 0:\n",
    "        return v, f, p\n",
    "    elif h == 1:\n",
    "        return 1 - f, v, p\n",
    "    elif h == 2:\n",
    "        return p, v, f\n",
    "    elif h == 3:\n",
    "        return p, 1 - f, v\n",
    "    elif h == 4:\n",
    "        return f, p, v\n",
    "    elif h == 5:\n",
    "        return v, p, 1 - f\n",
    "\n",
    "def uniquecolors(n):\n",
    "    \"\"\"Compute a list of distinct colors, ecah of which is\n",
    "    represented as an RGB three-tuple\"\"\"\n",
    "    hues = [360.0 / n * i for i in range(n)]\n",
    "    hs = (math.floor(hue / 60) % 6 for hue in hues)\n",
    "    fs = (hue / 60 - math.floor(hue / 60) for hue in hues)\n",
    "    return [rgbcolor(h, f) for h, f in zip(hs, fs)]"
   ]
  },
  {
   "cell_type": "code",
   "execution_count": 120,
   "metadata": {
    "collapsed": false
   },
   "outputs": [
    {
     "data": {
      "text/plain": [
       "[(1.0, 0.0, 0.0), (0.5, 1.0, 0.0), (0.0, 1.0, 1.0), (0.5, 0.0, 1.0)]"
      ]
     },
     "execution_count": 120,
     "metadata": {},
     "output_type": "execute_result"
    }
   ],
   "source": [
    "\"\"\"\n",
    "Generate sphere colors\n",
    "\"\"\"\n",
    "datacolors=uniquecolors(ndatasets)\n",
    "datacolors"
   ]
  },
  {
   "cell_type": "code",
   "execution_count": 121,
   "metadata": {
    "collapsed": false
   },
   "outputs": [
    {
     "data": {
      "text/plain": [
       "\"\\nFirst we'll get a set of stereotaxic foci in the MNI\\ncoordinate system. These might be peak activations from\\na volume based analysis.\\n\""
      ]
     },
     "execution_count": 121,
     "metadata": {},
     "output_type": "execute_result"
    }
   ],
   "source": [
    "\"\"\"\n",
    "First we'll get a set of stereotaxic foci in the MNI\n",
    "coordinate system. These might be peak activations from\n",
    "a volume based analysis.\n",
    "\"\"\"\n",
    "#coords_rh_studkey = [1,1,1,1,2,4,4,5,6,6,7,7,8,8] #study\n",
    "#coords_rh_studkey = [1,1,1,0,0,1,0,0,1,1,2,2,1,1] #cognition\n",
    "#scaling factor (in this example, multiples of recorded cluster sizes relative to smallest size)\n",
    "#coords_rh_sz_key = [9,9,9,9,1,3.8,76.6,5.8,28,28,31.2,31.2,21.8,21.8]#ratio against smallest k\n",
    "#coords_rh_sz_key = [45,45,45,45,5,19,383,29,140,140,156,156,109,109]#raw k\n",
    "\n",
    "\n",
    "# coords_lh = [[-10, 66, 8],\n",
    "#          [-18,57,0],\n",
    "#          [-18,58,-8],\n",
    "#          [-24,62,22],\n",
    "#          [-9,59,28],\n",
    "#          [-21,56,-8],\n",
    "#          [-34,52,-4],\n",
    "#              [-30,62,18],\n",
    "#              [-40,52,8]\n",
    "#                       ]\n",
    "\n",
    "# #coords_lh_studkey = [0,2,3,4,4,4,5,8,8] #study\n",
    "# coords_lh_studkey = [0,0,3,1,0,0,0,1,1] #cognition\n",
    "\n",
    "# #scaling factor (in this example, multiples of recorded cluster sizes relative to smallest size)\n",
    "# #coords_lh_sz_key = [1,1,2,3.8,76.6,3.8,30.2,21.8,21.8]#ratio against smallest k\n",
    "# coords_lh_sz_key = [5,5,10,19,383,19,151,109,109]#raw k\n",
    "\n",
    "\n",
    "\n",
    "# print(coords_rh_studkey)"
   ]
  },
  {
   "cell_type": "code",
   "execution_count": 122,
   "metadata": {
    "collapsed": true
   },
   "outputs": [],
   "source": [
    "\"\"\"\n",
    "\n",
    "Add Yeo reference labels\n",
    "\"\"\"\n",
    "\n",
    "hemi = \"lh\"\n",
    "\n",
    "\"\"\"\n",
    "Read in the Buckner resting state network annotation. (This requires a\n",
    "relatively recent version of Freesurfer, or it can be downloaded separately).\n",
    "\"\"\"\n",
    "aparc_file = os.path.join(os.environ[\"SUBJECTS_DIR\"],\n",
    "                          subject_id, \"label\",\n",
    "                          hemi + \".Yeo2011_17Networks_N1000.annot\")\n",
    "labels, ctab, names = nib.freesurfer.read_annot(aparc_file)\n",
    "\n",
    "\n",
    "\"\"\"\n",
    "Make a random vector of scalar data corresponding to a value for each region in\n",
    "the parcellation.\n",
    "\n",
    "\"\"\"\n",
    "rs = np.random.RandomState(4)\n",
    "roi_data = rs.uniform(.5, .75, size=len(names))\n",
    "\n",
    "\"\"\"\n",
    "Make a vector containing the data point at each vertex.\n",
    "\"\"\"\n",
    "vtx_data_lh = roi_data[labels]\n",
    "\n",
    "\n",
    "\"\"\"\n",
    "repeat for rh\n",
    "\"\"\"\n",
    "hemi = \"rh\"\n",
    "aparc_file = os.path.join(os.environ[\"SUBJECTS_DIR\"],\n",
    "                          subject_id, \"label\",\n",
    "                          hemi + \".Yeo2011_17Networks_N1000.annot\")\n",
    "labels, ctab, names = nib.freesurfer.read_annot(aparc_file)\n",
    "\n",
    "vtx_data_rh = roi_data[labels]"
   ]
  },
  {
   "cell_type": "markdown",
   "metadata": {},
   "source": [
    "## Deal with Left Hemisphere Data"
   ]
  },
  {
   "cell_type": "code",
   "execution_count": 129,
   "metadata": {
    "collapsed": true
   },
   "outputs": [],
   "source": [
    "currhem = \"lh\"\n",
    "\n",
    "\"\"\"\n",
    "Bring up the visualization.\n",
    "\"\"\"\n",
    "brain_lh = Brain(subject_id, currhem, \"inflated\")\n",
    "\n",
    "#brain = Brain(\"fsaverage\", \"split\", \"inflated\",\n",
    "#              views=['frontal'], background=\"white\")"
   ]
  },
  {
   "cell_type": "code",
   "execution_count": 130,
   "metadata": {
    "collapsed": false
   },
   "outputs": [],
   "source": [
    "\"\"\"\n",
    "Display these values on the brain. Use a sequential colormap (assuming\n",
    "these data move from low to high values), and add an alpha channel so the\n",
    "underlying anatomy is visible.\n",
    "\n",
    "https://matplotlib.org/examples/color/colormaps_reference.html\n",
    "\"\"\"\n",
    "#brain.add_data(vtx_data_lh, .5, .75, colormap=\"GnBu\", alpha=.9, hemi=\"lh\")\n",
    "#brain.add_data(vtx_data_rh, .5, .75, colormap=\"GnBu\", alpha=.9, hemi=\"rh\")\n",
    "\n",
    "brain_lh.add_data(vtx_data_lh, .5, .75, colormap=\"RdYlBu\", alpha=.8, hemi=\"lh\")\n",
    "#brain_lh.close()\n"
   ]
  },
  {
   "cell_type": "code",
   "execution_count": 131,
   "metadata": {
    "collapsed": false
   },
   "outputs": [
    {
     "name": "stdout",
     "output_type": "stream",
     "text": [
      "[-10, 66, 8]\n",
      "0\n",
      "[18, 57, 0]\n",
      "0\n",
      "[-18, 58, -8]\n",
      "3\n",
      "[-24, 62, 22]\n",
      "1\n",
      "[-9, 59, 28]\n",
      "0\n",
      "[-21, 56, -8]\n",
      "0\n",
      "[-34, 52, -4]\n",
      "0\n",
      "[-30, 62, 18]\n",
      "1\n",
      "[-40, 52, 8]\n",
      "1\n"
     ]
    }
   ],
   "source": [
    "\"\"\"\n",
    "Map foci to this hemisphere.\n",
    "\n",
    "Now we plot the foci on the inflated surface. We will map\n",
    "the foci onto the surface by finding the vertex on the \"white\"\n",
    "mesh that is closest to the coordinate of each point we want\n",
    "to display.\n",
    "\n",
    "While this is not a perfect transformation, it can give you\n",
    "some idea of where peaks from a volume-based analysis would\n",
    "be located on the surface.\n",
    "\n",
    "You can use any valid matplotlib color for the foci; the\n",
    "default is white.\n",
    "\n",
    "\n",
    "\n",
    "This works through iterating through a list of datapoints, such that data from the same grouping gets \\\\\n",
    "the same color code\n",
    "\"\"\"\n",
    "#for i in range(4,6):\n",
    "#    subcoords = eval(\"coords_lh_s\" + str(i))\n",
    "#    print(subcoords)\n",
    "#    brain_lh.add_foci(subcoords, map_surface=\"white\", color=datacolors[i], scale_factor = 0.5, hemi=\"lh\")    \n",
    "\n",
    "\n",
    "#for i in coords_lh:\n",
    "for i in range(len(coords_lh)):\n",
    "    if resizeblobs == 1:\n",
    "     brain_lh.add_foci(coords_lh[i], map_surface=\"white\", color=datacolors[lh_dat.grp[i]], scale_factor = blobscale+(0.01*lh_dat.scale[i]), hemi=\"lh\") #in this scheme, convert raw k into a percentage, and add to a base sphere size   \n",
    "    else:\n",
    "     brain_lh.add_foci(coords_lh[i], map_surface=\"white\", color=datacolors[lh_dat.grp[i]], scale_factor = blobscale, hemi=\"lh\")   \n",
    "\n",
    "\n",
    "\n",
    "\n",
    "#brain_lh.add_foci(coords_lh_s1, map_surface=\"white\", color=\"b\", scale_factor = 0.5, hemi=\"lh\")\n",
    "#brain_lh.add_foci(coords_lh_s3, map_surface=\"white\", color=\"r\", scale_factor = 0.5, hemi=\"lh\")\n",
    "#brain_lh.add_foci(coords_lh_s4, map_surface=\"white\", color=\"c\", scale_factor = 0.5, hemi=\"lh\")\n",
    "#brain_lh.add_foci(coords_lh_s5, map_surface=\"white\", color=\"m\", scale_factor = 0.5, hemi=\"lh\")\n",
    "#brain_lh.add_foci(coords_lh_s6, map_surface=\"white\", color=\"y\", scale_factor = 0.5, hemi=\"lh\")\n"
   ]
  },
  {
   "cell_type": "code",
   "execution_count": 132,
   "metadata": {
    "collapsed": false
   },
   "outputs": [
    {
     "data": {
      "text/plain": [
       "((119.99999999999999,\n",
       "  80.0,\n",
       "  434.03852844238281,\n",
       "  array([ 0.        ,  0.48182297,  0.        ])),\n",
       " 106.739)"
      ]
     },
     "execution_count": 132,
     "metadata": {},
     "output_type": "execute_result"
    }
   ],
   "source": [
    "\"\"\"\n",
    "Various view and saving options do not play well with 'split' brain, and are best dealt with on a hemisphere basis\n",
    "\"\"\"\n",
    "\n",
    "#brain_rh.show_view(dict(azimuth=-42, elevation=105, distance=225,\n",
    "#                     focalpoint=[-30, -20, 15]))\n",
    "\n",
    "brain_lh.show_view('frontal')"
   ]
  },
  {
   "cell_type": "code",
   "execution_count": 357,
   "metadata": {
    "collapsed": false
   },
   "outputs": [],
   "source": [
    "\"\"\"\n",
    "save output\n",
    "\"\"\"\n",
    "#with multiple arguments, one can use a tuple as operand: 'foo %d, bar %d' % (foo, bar)\n",
    "brain_lh.save_image(\"%s_lat_%s.png\" % (subject_id, currhem))"
   ]
  },
  {
   "cell_type": "markdown",
   "metadata": {
    "collapsed": true
   },
   "source": [
    "## Deal with Right Hemisphere Data"
   ]
  },
  {
   "cell_type": "code",
   "execution_count": 109,
   "metadata": {
    "collapsed": true
   },
   "outputs": [],
   "source": [
    "currhem = \"rh\"\n",
    "\n",
    "\"\"\"\n",
    "Bring up the visualization.\n",
    "\"\"\"\n",
    "brain_rh = Brain(subject_id, currhem, \"inflated\")"
   ]
  },
  {
   "cell_type": "code",
   "execution_count": 110,
   "metadata": {
    "collapsed": false
   },
   "outputs": [],
   "source": [
    "\"\"\"\n",
    "Display these values on the brain. Use a sequential colormap (assuming\n",
    "these data move from low to high values), and add an alpha channel so the\n",
    "underlying anatomy is visible.\n",
    "\"\"\"\n",
    "brain_rh.add_data(vtx_data_rh, .5, .75, colormap=\"RdYlBu\", alpha=.8, hemi=\"rh\")\n"
   ]
  },
  {
   "cell_type": "code",
   "execution_count": 111,
   "metadata": {
    "collapsed": false
   },
   "outputs": [],
   "source": [
    "#print(len(coords_rh))\n",
    "#print(len(coords_rh_studkey))\n",
    "#print(coords_rh[11])\n",
    "#print(range(len(coords_rh)))\n",
    "\n",
    "for i in range(len(coords_rh)):\n",
    "    if resizeblobs == 1:\n",
    "     #rain_rh.add_foci(coords_rh[i], map_surface=\"white\", color=datacolors[rh_dat.grp[i]], scale_factor = blobscale+(0.01*coords_rh_sz_key[i]), hemi=\"rh\")    \n",
    "     brain_rh.add_foci(coords_rh[i], map_surface=\"white\", color=datacolors[rh_dat.grp[i]], scale_factor = blobscale+(0.01*rh_dat.scale[i]), hemi=\"rh\")    \n",
    "    else:\n",
    "     #brain_rh.add_foci(coords_rh[i], map_surface=\"white\", color=datacolors[coords_rh_studkey[i]], scale_factor = blobscale, hemi=\"rh\")   \n",
    "     brain_rh.add_foci(coords_rh[i], map_surface=\"white\", color=datacolors[rh_dat.grp[i]], scale_factor = blobscale, hemi=\"rh\")   \n"
   ]
  },
  {
   "cell_type": "code",
   "execution_count": 346,
   "metadata": {
    "collapsed": false
   },
   "outputs": [
    {
     "data": {
      "text/plain": [
       "((59.999999999999993,\n",
       "  80.0,\n",
       "  448.60737609863281,\n",
       "  array([-1.48587799,  4.42029953,  0.        ])),\n",
       " -106.739)"
      ]
     },
     "execution_count": 346,
     "metadata": {},
     "output_type": "execute_result"
    }
   ],
   "source": [
    "brain_rh.show_view('frontal')"
   ]
  },
  {
   "cell_type": "code",
   "execution_count": 347,
   "metadata": {
    "collapsed": false
   },
   "outputs": [],
   "source": [
    "\"\"\"\n",
    "save output\n",
    "\"\"\"\n",
    "#with multiple arguments, one can use a tuple as operand: 'foo %d, bar %d' % (foo, bar)\n",
    "brain_rh.save_image(\"%s_lat_%s.png\" % (subject_id, currhem))"
   ]
  },
  {
   "cell_type": "code",
   "execution_count": 348,
   "metadata": {
    "collapsed": false
   },
   "outputs": [],
   "source": [
    "###############################################################################\n",
    "# # Get a set of images as a montage, note the data could be saved if desired\n",
    "# #image = brain_rh.save_montage(None, ['l', 'v', 'm'], orientation='v')\n",
    "# image = brain.save_montage(None, ['l', 'v', 'm'], orientation='v')\n",
    "# brain.close()\n",
    "\n"
   ]
  },
  {
   "cell_type": "code",
   "execution_count": 349,
   "metadata": {
    "collapsed": true
   },
   "outputs": [],
   "source": [
    "###############################################################################\n",
    "# View created image\n",
    "# import pylab as pl\n",
    "# fig = pl.figure(figsize=(5, 3), facecolor='white')\n",
    "# ax = pl.axes(frameon=False)\n",
    "# ax.imshow(image, origin='upper')\n",
    "# pl.xticks(())\n",
    "# pl.yticks(())\n",
    "# pl.draw()\n",
    "# pl.show()"
   ]
  },
  {
   "cell_type": "code",
   "execution_count": 350,
   "metadata": {
    "collapsed": false
   },
   "outputs": [],
   "source": [
    "#utils.coord_to_label(subject_id, coords_rh[4], label='coord', #example_data/\n",
    "#                     hemi='rh', n_steps=25, map_surface=\"white\")\n",
    "#brain_rh.add_label('coord-rh.label', color=\"darkseagreen\", alpha=.8)"
   ]
  },
  {
   "cell_type": "code",
   "execution_count": null,
   "metadata": {
    "collapsed": true
   },
   "outputs": [],
   "source": []
  },
  {
   "cell_type": "code",
   "execution_count": null,
   "metadata": {
    "collapsed": true
   },
   "outputs": [],
   "source": []
  }
 ],
 "metadata": {
  "anaconda-cloud": {},
  "kernelspec": {
   "display_name": "Python [Root]",
   "language": "python",
   "name": "Python [Root]"
  },
  "language_info": {
   "codemirror_mode": {
    "name": "ipython",
    "version": 2
   },
   "file_extension": ".py",
   "mimetype": "text/x-python",
   "name": "python",
   "nbconvert_exporter": "python",
   "pygments_lexer": "ipython2",
   "version": "2.7.12"
  }
 },
 "nbformat": 4,
 "nbformat_minor": 0
}
