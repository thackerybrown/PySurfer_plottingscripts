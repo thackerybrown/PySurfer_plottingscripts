{
 "cells": [
  {
   "cell_type": "code",
   "execution_count": 203,
   "metadata": {
    "collapsed": false
   },
   "outputs": [
    {
     "name": "stdout",
     "output_type": "stream",
     "text": [
      "\n",
      "save output\n",
      "\n"
     ]
    }
   ],
   "source": [
    "import os\n",
    "os.environ['QT_API'] = 'pyqt'\n",
    "os.environ['ETS_TOOLKIT'] = 'qt4'\n",
    "#os.environ['SUBJECTS_DIR'] = \"/path/to/subjects\"\n",
    "\n",
    "import sip\n",
    "sip.setapi('QDate',2)\n",
    "\n",
    "import os\n",
    "import os.path as op\n",
    "import numpy as np\n",
    "from numpy import arange\n",
    "from numpy.random import permutation\n",
    "import nibabel as nib\n",
    "from surfer import Brain\n",
    "\n",
    "print(__doc__)\n",
    "\n",
    "\n",
    "%gui qt"
   ]
  },
  {
   "cell_type": "code",
   "execution_count": 204,
   "metadata": {
    "collapsed": true
   },
   "outputs": [],
   "source": [
    "subject_id = \"fsaverage\"\n",
    "subjects_dir = os.environ[\"SUBJECTS_DIR\"]\n",
    "\n",
    "\"\"\"\n",
    "Set number of datasets (studies, conditions, any other grouping for individual coordinate spheres)\n",
    "\"\"\"\n",
    "ndatasets = 8"
   ]
  },
  {
   "cell_type": "code",
   "execution_count": 205,
   "metadata": {
    "collapsed": true
   },
   "outputs": [],
   "source": [
    "\"\"\"\n",
    "Create generator of unique RGB colors for plotting objects (such as coordinate spheres)\n",
    "\"\"\"\n",
    "\n",
    "import math\n",
    "\n",
    "v = 1.0\n",
    "s = 1.0\n",
    "p = 0.0\n",
    "def rgbcolor(h, f):\n",
    "    \"\"\"Convert a color specified by h-value and f-value to an RGB\n",
    "    three-tuple.\"\"\"\n",
    "    # q = 1 - f\n",
    "    # t = f\n",
    "    if h == 0:\n",
    "        return v, f, p\n",
    "    elif h == 1:\n",
    "        return 1 - f, v, p\n",
    "    elif h == 2:\n",
    "        return p, v, f\n",
    "    elif h == 3:\n",
    "        return p, 1 - f, v\n",
    "    elif h == 4:\n",
    "        return f, p, v\n",
    "    elif h == 5:\n",
    "        return v, p, 1 - f\n",
    "\n",
    "def uniquecolors(n):\n",
    "    \"\"\"Compute a list of distinct colors, ecah of which is\n",
    "    represented as an RGB three-tuple\"\"\"\n",
    "    hues = [360.0 / n * i for i in range(n)]\n",
    "    hs = (math.floor(hue / 60) % 6 for hue in hues)\n",
    "    fs = (hue / 60 - math.floor(hue / 60) for hue in hues)\n",
    "    return [rgbcolor(h, f) for h, f in zip(hs, fs)]"
   ]
  },
  {
   "cell_type": "code",
   "execution_count": 206,
   "metadata": {
    "collapsed": false
   },
   "outputs": [],
   "source": [
    "\"\"\"\n",
    "Generate sphere colors\n",
    "\"\"\"\n",
    "datacolors=uniquecolors(ndatasets)\n",
    "#datacolors[3]"
   ]
  },
  {
   "cell_type": "code",
   "execution_count": 207,
   "metadata": {
    "collapsed": false
   },
   "outputs": [
    {
     "name": "stdout",
     "output_type": "stream",
     "text": [
      "[0, 2, 3, 4, 4, 4, 5]\n"
     ]
    }
   ],
   "source": [
    "\"\"\"\n",
    "First we'll get a set of stereotaxic foci in the MNI\n",
    "coordinate system. These might be peak activations from\n",
    "a volume based analysis.\n",
    "\"\"\"\n",
    "coords_rh = [[26, 57, -8],\n",
    "            [28, 38, 31],\n",
    "            [28, 55, -1],\n",
    "            [30, 57, -5],\n",
    "            [36,63,6],\n",
    "            [27,62,22],\n",
    "            [9, 59, 34],\n",
    "            [26,64,10],\n",
    "            [30,52,8],\n",
    "            [30,48,8],\n",
    "            [20,68,10],\n",
    "            [32,56,0]\n",
    "                      ]\n",
    "#study #1 = 0\n",
    "coords_rh_studkey = [1,1,1,1,2,4,4,5,6,6,7,7]\n",
    "\n",
    "coords_lh = [[-10, 66, 8],\n",
    "         [-18,57,0],\n",
    "         [-18,58,-8],\n",
    "         [-24,62,22],\n",
    "         [-9,59,28],\n",
    "         [-21,56,-8],\n",
    "         [-34,52,-4]\n",
    "                      ]\n",
    "\n",
    "#study #1 = 0\n",
    "coords_lh_studkey = [0,2,3,4,4,4,5]\n",
    "\n",
    "print(coords_lh_studkey)"
   ]
  },
  {
   "cell_type": "code",
   "execution_count": 208,
   "metadata": {
    "collapsed": false
   },
   "outputs": [
    {
     "data": {
      "text/plain": [
       "\"\\nFirst we'll get a set of stereotaxic foci in the MNI\\ncoordinate system. These might be peak activations from\\na volume based analysis.\\n\""
      ]
     },
     "execution_count": 208,
     "metadata": {},
     "output_type": "execute_result"
    }
   ],
   "source": [
    "\"\"\"\n",
    "First we'll get a set of stereotaxic foci in the MNI\n",
    "coordinate system. These might be peak activations from\n",
    "a volume based analysis.\n",
    "\"\"\"\n",
    "# coords_rh_s2 = [[26, 57, -8],\n",
    "#           [28, 38, 31],\n",
    "#           [28, 55, -1],\n",
    "#          [30, 57, -5]\n",
    "        \n",
    "#                       ]\n",
    "\n",
    "# coords_rh_s3 = [\n",
    "#          [36,63,6]\n",
    "#                       ]\n",
    "# coords_rh_s5 = [\n",
    "#              [27,62,22],\n",
    "#              [9, 59, 34]\n",
    "#                       ]\n",
    "\n",
    "\n",
    "# coords_rh_s6 = [\n",
    "#     [26,64,10]\n",
    "#                       ]\n",
    "\n",
    "\n",
    "# coords_rh_s7 = [\n",
    "#              [30,52,8],\n",
    "#              [30,48,8]\n",
    "#                       ]\n",
    "\n",
    "\n",
    "# coords_rh_s8 = [\n",
    "#              [20,68,10],\n",
    "#              [32,56,0]\n",
    "#                       ]\n",
    "\n",
    "\n",
    "# coords_lh_s1 = [[-10, 66, 8]\n",
    "#                       ]\n",
    "\n",
    "\n",
    "# coords_lh_s3 = [\n",
    "#           [-18,57,0]\n",
    "#                                 ]\n",
    "\n",
    "# coords_lh_s4 = [\n",
    "#           [-18,58,-8]\n",
    "#                       ]\n",
    "\n",
    "# coords_lh_s5 = [\n",
    "#          [-24,62,22],\n",
    "#          [-9,59,28],\n",
    "#              [-21,56,-8]\n",
    "#                       ]\n",
    "\n",
    "# coords_lh_s6 = [\n",
    "#              [-34,52,-4]\n",
    "#                       ]"
   ]
  },
  {
   "cell_type": "code",
   "execution_count": 209,
   "metadata": {
    "collapsed": true
   },
   "outputs": [],
   "source": [
    "\"\"\"\n",
    "\n",
    "Add Yeo reference labels\n",
    "\"\"\"\n",
    "\n",
    "hemi = \"lh\"\n",
    "\n",
    "\"\"\"\n",
    "Read in the Buckner resting state network annotation. (This requires a\n",
    "relatively recent version of Freesurfer, or it can be downloaded separately).\n",
    "\"\"\"\n",
    "aparc_file = os.path.join(os.environ[\"SUBJECTS_DIR\"],\n",
    "                          subject_id, \"label\",\n",
    "                          hemi + \".Yeo2011_17Networks_N1000.annot\")\n",
    "labels, ctab, names = nib.freesurfer.read_annot(aparc_file)\n",
    "\n",
    "\n",
    "\"\"\"\n",
    "Make a random vector of scalar data corresponding to a value for each region in\n",
    "the parcellation.\n",
    "\n",
    "\"\"\"\n",
    "rs = np.random.RandomState(4)\n",
    "roi_data = rs.uniform(.5, .75, size=len(names))\n",
    "\n",
    "\"\"\"\n",
    "Make a vector containing the data point at each vertex.\n",
    "\"\"\"\n",
    "vtx_data_lh = roi_data[labels]\n",
    "\n",
    "\n",
    "\"\"\"\n",
    "repeat for rh\n",
    "\"\"\"\n",
    "hemi = \"rh\"\n",
    "aparc_file = os.path.join(os.environ[\"SUBJECTS_DIR\"],\n",
    "                          subject_id, \"label\",\n",
    "                          hemi + \".Yeo2011_17Networks_N1000.annot\")\n",
    "labels, ctab, names = nib.freesurfer.read_annot(aparc_file)\n",
    "\n",
    "vtx_data_rh = roi_data[labels]"
   ]
  },
  {
   "cell_type": "markdown",
   "metadata": {},
   "source": [
    "## Deal with Left Hemisphere Data"
   ]
  },
  {
   "cell_type": "code",
   "execution_count": 210,
   "metadata": {
    "collapsed": true
   },
   "outputs": [],
   "source": [
    "currhem = \"lh\"\n",
    "\n",
    "\"\"\"\n",
    "Bring up the visualization.\n",
    "\"\"\"\n",
    "brain_lh = Brain(subject_id, currhem, \"inflated\")\n",
    "\n",
    "#brain = Brain(\"fsaverage\", \"split\", \"inflated\",\n",
    "#              views=['frontal'], background=\"white\")"
   ]
  },
  {
   "cell_type": "code",
   "execution_count": 211,
   "metadata": {
    "collapsed": false
   },
   "outputs": [],
   "source": [
    "\"\"\"\n",
    "Display these values on the brain. Use a sequential colormap (assuming\n",
    "these data move from low to high values), and add an alpha channel so the\n",
    "underlying anatomy is visible.\n",
    "\"\"\"\n",
    "#brain.add_data(vtx_data_lh, .5, .75, colormap=\"GnBu\", alpha=.9, hemi=\"lh\")\n",
    "#brain.add_data(vtx_data_rh, .5, .75, colormap=\"GnBu\", alpha=.9, hemi=\"rh\")\n",
    "\n",
    "brain_lh.add_data(vtx_data_lh, .5, .75, colormap=\"GnBu\", alpha=.9, hemi=\"lh\")\n",
    "#brain_lh.close()\n"
   ]
  },
  {
   "cell_type": "code",
   "execution_count": 212,
   "metadata": {
    "collapsed": false
   },
   "outputs": [
    {
     "data": {
      "text/plain": [
       "'\\nNow we plot the foci on the inflated surface. We will map\\nthe foci onto the surface by finding the vertex on the \"white\"\\nmesh that is closest to the coordinate of each point we want\\nto display.\\n\\nWhile this is not a perfect transformation, it can give you\\nsome idea of where peaks from a volume-based analysis would\\nbe located on the surface.\\n\\nYou can use any valid matplotlib color for the foci; the\\ndefault is white.\\n'"
      ]
     },
     "execution_count": 212,
     "metadata": {},
     "output_type": "execute_result"
    }
   ],
   "source": [
    "\"\"\"\n",
    "Now we plot the foci on the inflated surface. We will map\n",
    "the foci onto the surface by finding the vertex on the \"white\"\n",
    "mesh that is closest to the coordinate of each point we want\n",
    "to display.\n",
    "\n",
    "While this is not a perfect transformation, it can give you\n",
    "some idea of where peaks from a volume-based analysis would\n",
    "be located on the surface.\n",
    "\n",
    "You can use any valid matplotlib color for the foci; the\n",
    "default is white.\n",
    "\"\"\"\n",
    "#brain.add_foci(coords_rh, map_surface=\"white\", color=\"green\", scale_factor = 0.75, hemi=\"rh\")\n",
    "\n",
    "#brain.add_foci(coords_lh, map_surface=\"white\", color=\"green\", scale_factor = 0.75, hemi=\"lh\")\n"
   ]
  },
  {
   "cell_type": "code",
   "execution_count": 213,
   "metadata": {
    "collapsed": false
   },
   "outputs": [
    {
     "name": "stdout",
     "output_type": "stream",
     "text": [
      "[-10, 66, 8]\n",
      "0\n",
      "[-18, 57, 0]\n",
      "2\n",
      "[-18, 58, -8]\n",
      "3\n",
      "[-24, 62, 22]\n",
      "4\n",
      "[-9, 59, 28]\n",
      "4\n",
      "[-21, 56, -8]\n",
      "4\n",
      "[-34, 52, -4]\n",
      "5\n"
     ]
    }
   ],
   "source": [
    "\"\"\"\n",
    "Map foci to this hemisphere.\n",
    "\n",
    "This works through iterating through a list of datapoints, such that data from the same grouping gets \\\\\n",
    "the same color code\n",
    "\"\"\"\n",
    "#for i in range(4,6):\n",
    "#    subcoords = eval(\"coords_lh_s\" + str(i))\n",
    "#    print(subcoords)\n",
    "#    brain_lh.add_foci(subcoords, map_surface=\"white\", color=datacolors[i], scale_factor = 0.5, hemi=\"lh\")    \n",
    "\n",
    "\n",
    "#for i in coords_lh:\n",
    "for i in range(len(coords_lh)):\n",
    "    #subcoords = eval(\"coords_lh_s\" + str(i))\n",
    "    #print(i)\n",
    "    print(coords_lh[i])\n",
    "    print(coords_lh_studkey[i])\n",
    "    brain_lh.add_foci(coords_lh[i], map_surface=\"white\", color=datacolors[coords_lh_studkey[i]], scale_factor = 0.5, hemi=\"lh\")    \n",
    "  \n",
    "#brain_lh.add_foci(coords_lh_s1, map_surface=\"white\", color=\"b\", scale_factor = 0.5, hemi=\"lh\")\n",
    "#brain_lh.add_foci(coords_lh_s3, map_surface=\"white\", color=\"r\", scale_factor = 0.5, hemi=\"lh\")\n",
    "#brain_lh.add_foci(coords_lh_s4, map_surface=\"white\", color=\"c\", scale_factor = 0.5, hemi=\"lh\")\n",
    "#brain_lh.add_foci(coords_lh_s5, map_surface=\"white\", color=\"m\", scale_factor = 0.5, hemi=\"lh\")\n",
    "#brain_lh.add_foci(coords_lh_s6, map_surface=\"white\", color=\"y\", scale_factor = 0.5, hemi=\"lh\")\n"
   ]
  },
  {
   "cell_type": "code",
   "execution_count": 214,
   "metadata": {
    "collapsed": false
   },
   "outputs": [
    {
     "data": {
      "text/plain": [
       "((119.99999999999999,\n",
       "  80.0,\n",
       "  435.50091552734381,\n",
       "  array([ 0.        ,  0.84741974,  0.        ])),\n",
       " 106.739)"
      ]
     },
     "execution_count": 214,
     "metadata": {},
     "output_type": "execute_result"
    }
   ],
   "source": [
    "\"\"\"\n",
    "Various view and saving options do not play well with 'split' brain, and are best dealt with on a hemisphere basis\n",
    "\"\"\"\n",
    "\n",
    "#brain_rh.show_view(dict(azimuth=-42, elevation=105, distance=225,\n",
    "#                     focalpoint=[-30, -20, 15]))\n",
    "\n",
    "brain_lh.show_view('frontal')"
   ]
  },
  {
   "cell_type": "code",
   "execution_count": 215,
   "metadata": {
    "collapsed": false
   },
   "outputs": [],
   "source": [
    "\"\"\"\n",
    "save output\n",
    "\"\"\"\n",
    "#with multiple arguments, one can use a tuple as operand: 'foo %d, bar %d' % (foo, bar)\n",
    "brain_lh.save_image(\"%s_lat_%s.png\" % (subject_id, currhem))"
   ]
  },
  {
   "cell_type": "markdown",
   "metadata": {
    "collapsed": true
   },
   "source": [
    "## Deal with Right Hemisphere Data"
   ]
  },
  {
   "cell_type": "code",
   "execution_count": 216,
   "metadata": {
    "collapsed": true
   },
   "outputs": [],
   "source": [
    "currhem = \"rh\"\n",
    "\n",
    "\"\"\"\n",
    "Bring up the visualization.\n",
    "\"\"\"\n",
    "brain_rh = Brain(subject_id, currhem, \"inflated\")"
   ]
  },
  {
   "cell_type": "code",
   "execution_count": 217,
   "metadata": {
    "collapsed": false
   },
   "outputs": [],
   "source": [
    "\"\"\"\n",
    "Display these values on the brain. Use a sequential colormap (assuming\n",
    "these data move from low to high values), and add an alpha channel so the\n",
    "underlying anatomy is visible.\n",
    "\"\"\"\n",
    "brain_rh.add_data(vtx_data_rh, .5, .75, colormap=\"GnBu\", alpha=.9, hemi=\"rh\")\n"
   ]
  },
  {
   "cell_type": "code",
   "execution_count": 218,
   "metadata": {
    "collapsed": false
   },
   "outputs": [],
   "source": [
    "#print(len(coords_rh))\n",
    "#print(len(coords_rh_studkey))\n",
    "#print(coords_rh[11])\n",
    "#print(range(len(coords_rh)))\n",
    "\n",
    "for i in range(len(coords_rh)):\n",
    "#    print(coords_rh[i])\n",
    "#    print(coords_rh_studkey[i])\n",
    "#print(datacolors[coords_rh_studkey[10]])\n",
    "     brain_rh.add_foci(coords_rh[i], map_surface=\"white\", color=datacolors[coords_rh_studkey[i]], scale_factor = 0.5, hemi=\"rh\")    \n",
    "  \n",
    "# brain_rh.add_foci(coords_rh_s2, map_surface=\"white\", color=\"g\", scale_factor = 0.5, hemi=\"rh\")\n",
    "# brain_rh.add_foci(coords_rh_s3, map_surface=\"white\", color=\"r\", scale_factor = 0.5, hemi=\"rh\")\n",
    "# brain_rh.add_foci(coords_rh_s5, map_surface=\"white\", color=\"m\", scale_factor = 0.5, hemi=\"rh\")\n",
    "# brain_rh.add_foci(coords_rh_s6, map_surface=\"white\", color=\"y\", scale_factor = 0.5, hemi=\"rh\")\n",
    "# brain_rh.add_foci(coords_rh_s7, map_surface=\"white\", color=\"k\", scale_factor = 0.5, hemi=\"rh\")\n",
    "# brain_rh.add_foci(coords_rh_s8, map_surface=\"white\", color=\"#33F8FF\", scale_factor = 0.5, hemi=\"rh\")"
   ]
  },
  {
   "cell_type": "code",
   "execution_count": 219,
   "metadata": {
    "collapsed": false
   },
   "outputs": [
    {
     "data": {
      "text/plain": [
       "((59.999999999999993,\n",
       "  80.0,\n",
       "  433.49957275390625,\n",
       "  array([ 0.        ,  0.64334869,  0.        ])),\n",
       " -106.739)"
      ]
     },
     "execution_count": 219,
     "metadata": {},
     "output_type": "execute_result"
    }
   ],
   "source": [
    "brain_rh.show_view('frontal')"
   ]
  },
  {
   "cell_type": "code",
   "execution_count": 220,
   "metadata": {
    "collapsed": false
   },
   "outputs": [],
   "source": [
    "\"\"\"\n",
    "save output\n",
    "\"\"\"\n",
    "#with multiple arguments, one can use a tuple as operand: 'foo %d, bar %d' % (foo, bar)\n",
    "brain_rh.save_image(\"%s_lat_%s.png\" % (subject_id, currhem))"
   ]
  },
  {
   "cell_type": "code",
   "execution_count": 221,
   "metadata": {
    "collapsed": false
   },
   "outputs": [],
   "source": [
    "###############################################################################\n",
    "# # Get a set of images as a montage, note the data could be saved if desired\n",
    "# #image = brain_rh.save_montage(None, ['l', 'v', 'm'], orientation='v')\n",
    "# image = brain.save_montage(None, ['l', 'v', 'm'], orientation='v')\n",
    "# brain.close()\n",
    "\n"
   ]
  },
  {
   "cell_type": "code",
   "execution_count": 222,
   "metadata": {
    "collapsed": true
   },
   "outputs": [],
   "source": [
    "###############################################################################\n",
    "# View created image\n",
    "# import pylab as pl\n",
    "# fig = pl.figure(figsize=(5, 3), facecolor='white')\n",
    "# ax = pl.axes(frameon=False)\n",
    "# ax.imshow(image, origin='upper')\n",
    "# pl.xticks(())\n",
    "# pl.yticks(())\n",
    "# pl.draw()\n",
    "# pl.show()"
   ]
  },
  {
   "cell_type": "code",
   "execution_count": null,
   "metadata": {
    "collapsed": true
   },
   "outputs": [],
   "source": []
  }
 ],
 "metadata": {
  "anaconda-cloud": {},
  "kernelspec": {
   "display_name": "Python [Root]",
   "language": "python",
   "name": "Python [Root]"
  },
  "language_info": {
   "codemirror_mode": {
    "name": "ipython",
    "version": 2
   },
   "file_extension": ".py",
   "mimetype": "text/x-python",
   "name": "python",
   "nbconvert_exporter": "python",
   "pygments_lexer": "ipython2",
   "version": "2.7.12"
  }
 },
 "nbformat": 4,
 "nbformat_minor": 0
}
