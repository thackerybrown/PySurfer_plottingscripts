{
 "cells": [
  {
   "cell_type": "code",
   "execution_count": 242,
   "metadata": {
    "collapsed": false
   },
   "outputs": [
    {
     "name": "stdout",
     "output_type": "stream",
     "text": [
      "\n",
      "save output\n",
      "\n"
     ]
    }
   ],
   "source": [
    "import os\n",
    "os.environ['QT_API'] = 'pyqt'\n",
    "os.environ['ETS_TOOLKIT'] = 'qt4'\n",
    "#os.environ['SUBJECTS_DIR'] = \"/path/to/subjects\"\n",
    "\n",
    "import sip\n",
    "sip.setapi('QDate',2)\n",
    "\n",
    "import os\n",
    "import os.path as op\n",
    "import numpy as np\n",
    "from numpy import arange\n",
    "from numpy.random import permutation\n",
    "import nibabel as nib\n",
    "from surfer import Brain, utils\n",
    "\n",
    "print(__doc__)\n",
    "\n",
    "\n",
    "%gui qt"
   ]
  },
  {
   "cell_type": "code",
   "execution_count": 243,
   "metadata": {
    "collapsed": true
   },
   "outputs": [],
   "source": [
    "\"\"\"\n",
    "Directories and names\n",
    "\"\"\"\n",
    "subject_id = \"fsaverage\"\n",
    "subjects_dir = os.environ[\"SUBJECTS_DIR\"]\n",
    "\n"
   ]
  },
  {
   "cell_type": "code",
   "execution_count": 244,
   "metadata": {
    "collapsed": true
   },
   "outputs": [],
   "source": [
    "\"\"\"\n",
    "Flags and UI\n",
    "\"\"\"\n",
    "\n",
    "#Set number of datasets (studies, conditions, any other grouping for individual coordinate spheres)\n",
    "ndatasets = 9#4#\n",
    "\n",
    "#set a scaling factor for spheres. Sizes from 0.25 - 0.5 yield decent results\n",
    "blobscale = 0.35\n",
    "\n",
    "#flag for using custom (relative) blob sizes per sphere (e.g., from different recorded cluster extents)\n",
    "resizeblobs = 0"
   ]
  },
  {
   "cell_type": "code",
   "execution_count": 245,
   "metadata": {
    "collapsed": true
   },
   "outputs": [],
   "source": [
    "\"\"\"\n",
    "Create generator of unique RGB colors for plotting objects (such as coordinate spheres)\n",
    "\"\"\"\n",
    "\n",
    "import math\n",
    "\n",
    "v = 1.0\n",
    "s = 1.0\n",
    "p = 0.0\n",
    "def rgbcolor(h, f):\n",
    "    \"\"\"Convert a color specified by h-value and f-value to an RGB\n",
    "    three-tuple.\"\"\"\n",
    "    # q = 1 - f\n",
    "    # t = f\n",
    "    if h == 0:\n",
    "        return v, f, p\n",
    "    elif h == 1:\n",
    "        return 1 - f, v, p\n",
    "    elif h == 2:\n",
    "        return p, v, f\n",
    "    elif h == 3:\n",
    "        return p, 1 - f, v\n",
    "    elif h == 4:\n",
    "        return f, p, v\n",
    "    elif h == 5:\n",
    "        return v, p, 1 - f\n",
    "\n",
    "def uniquecolors(n):\n",
    "    \"\"\"Compute a list of distinct colors, ecah of which is\n",
    "    represented as an RGB three-tuple\"\"\"\n",
    "    hues = [360.0 / n * i for i in range(n)]\n",
    "    hs = (math.floor(hue / 60) % 6 for hue in hues)\n",
    "    fs = (hue / 60 - math.floor(hue / 60) for hue in hues)\n",
    "    return [rgbcolor(h, f) for h, f in zip(hs, fs)]"
   ]
  },
  {
   "cell_type": "code",
   "execution_count": 246,
   "metadata": {
    "collapsed": false
   },
   "outputs": [
    {
     "data": {
      "text/plain": [
       "[(1.0, 0.0, 0.0),\n",
       " (1.0, 0.6666666666666666, 0.0),\n",
       " (0.6666666666666667, 1.0, 0.0),\n",
       " (0.0, 1.0, 0.0),\n",
       " (0.0, 1.0, 0.6666666666666665),\n",
       " (0.0, 0.6666666666666665, 1.0),\n",
       " (0.0, 0.0, 1.0),\n",
       " (0.666666666666667, 0.0, 1.0),\n",
       " (1.0, 0.0, 0.666666666666667)]"
      ]
     },
     "execution_count": 246,
     "metadata": {},
     "output_type": "execute_result"
    }
   ],
   "source": [
    "\"\"\"\n",
    "Generate sphere colors\n",
    "\"\"\"\n",
    "datacolors=uniquecolors(ndatasets)\n",
    "datacolors"
   ]
  },
  {
   "cell_type": "code",
   "execution_count": 247,
   "metadata": {
    "collapsed": false
   },
   "outputs": [
    {
     "name": "stdout",
     "output_type": "stream",
     "text": [
      "[0, 2, 3, 4, 4, 4, 5, 8, 8]\n"
     ]
    }
   ],
   "source": [
    "\"\"\"\n",
    "First we'll get a set of stereotaxic foci in the MNI\n",
    "coordinate system. These might be peak activations from\n",
    "a volume based analysis.\n",
    "\"\"\"\n",
    "coords_rh = [[26, 57, -8],\n",
    "            [28, 38, 31],\n",
    "            [28, 55, -1],\n",
    "            [30, 57, -5],\n",
    "            [36,63,6],\n",
    "            [27,62,22],\n",
    "            [9, 59, 34],\n",
    "            [26,64,10],\n",
    "            [30,52,8],\n",
    "            [30,48,8],\n",
    "            [20,68,10],\n",
    "            [32,56,0],\n",
    "             [36,54,18],\n",
    "             [38,62,8]             \n",
    "                      ]\n",
    "coords_rh_studkey = [1,1,1,1,2,4,4,5,6,6,7,7,8,8] #study\n",
    "#coords_rh_studkey = [1,1,1,0,0,1,0,0,1,1,2,2,1,1] #cognition\n",
    "\n",
    "#scaling factor (in this example, multiples of recorded cluster sizes relative to smallest size)\n",
    "coords_rh_sz_key = [9,9,9,9,1,3.8,76.6,5.8,28,28,31.2,31.2,21.8,21.8]\n",
    "\n",
    "\n",
    "coords_lh = [[-10, 66, 8],\n",
    "         [-18,57,0],\n",
    "         [-18,58,-8],\n",
    "         [-24,62,22],\n",
    "         [-9,59,28],\n",
    "         [-21,56,-8],\n",
    "         [-34,52,-4],\n",
    "             [-30,62,18],\n",
    "             [-40,52,8]\n",
    "                      ]\n",
    "\n",
    "coords_lh_studkey = [0,2,3,4,4,4,5,8,8] #study\n",
    "#coords_lh_studkey = [0,0,3,1,0,0,0,1,1] #cognition\n",
    "\n",
    "#scaling factor (in this example, multiples of recorded cluster sizes relative to smallest size)\n",
    "coords_lh_sz_key = [1,1,2,3.8,76.6,3.8,30.2,21.8,21.8]\n",
    "\n",
    "print(coords_lh_studkey)"
   ]
  },
  {
   "cell_type": "code",
   "execution_count": 248,
   "metadata": {
    "collapsed": false
   },
   "outputs": [
    {
     "data": {
      "text/plain": [
       "\"\\nFirst we'll get a set of stereotaxic foci in the MNI\\ncoordinate system. These might be peak activations from\\na volume based analysis.\\n\""
      ]
     },
     "execution_count": 248,
     "metadata": {},
     "output_type": "execute_result"
    }
   ],
   "source": [
    "\"\"\"\n",
    "First we'll get a set of stereotaxic foci in the MNI\n",
    "coordinate system. These might be peak activations from\n",
    "a volume based analysis.\n",
    "\"\"\"\n",
    "# coords_rh_s2 = [[26, 57, -8],\n",
    "#           [28, 38, 31],\n",
    "#           [28, 55, -1],\n",
    "#          [30, 57, -5]\n",
    "        \n",
    "#                       ]\n",
    "\n",
    "# coords_rh_s3 = [\n",
    "#          [36,63,6]\n",
    "#                       ]\n",
    "# coords_rh_s5 = [\n",
    "#              [27,62,22],\n",
    "#              [9, 59, 34]\n",
    "#                       ]\n",
    "\n",
    "\n",
    "# coords_rh_s6 = [\n",
    "#     [26,64,10]\n",
    "#                       ]\n",
    "\n",
    "\n",
    "# coords_rh_s7 = [\n",
    "#              [30,52,8],\n",
    "#              [30,48,8]\n",
    "#                       ]\n",
    "\n",
    "\n",
    "# coords_rh_s8 = [\n",
    "#              [20,68,10],\n",
    "#              [32,56,0]\n",
    "#                       ]\n",
    "\n",
    "\n",
    "# coords_lh_s1 = [[-10, 66, 8]\n",
    "#                       ]\n",
    "\n",
    "\n",
    "# coords_lh_s3 = [\n",
    "#           [-18,57,0]\n",
    "#                                 ]\n",
    "\n",
    "# coords_lh_s4 = [\n",
    "#           [-18,58,-8]\n",
    "#                       ]\n",
    "\n",
    "# coords_lh_s5 = [\n",
    "#          [-24,62,22],\n",
    "#          [-9,59,28],\n",
    "#              [-21,56,-8]\n",
    "#                       ]\n",
    "\n",
    "# coords_lh_s6 = [\n",
    "#              [-34,52,-4]\n",
    "#                       ]"
   ]
  },
  {
   "cell_type": "code",
   "execution_count": 249,
   "metadata": {
    "collapsed": true
   },
   "outputs": [],
   "source": [
    "\"\"\"\n",
    "\n",
    "Add Yeo reference labels\n",
    "\"\"\"\n",
    "\n",
    "hemi = \"lh\"\n",
    "\n",
    "\"\"\"\n",
    "Read in the Buckner resting state network annotation. (This requires a\n",
    "relatively recent version of Freesurfer, or it can be downloaded separately).\n",
    "\"\"\"\n",
    "aparc_file = os.path.join(os.environ[\"SUBJECTS_DIR\"],\n",
    "                          subject_id, \"label\",\n",
    "                          hemi + \".Yeo2011_17Networks_N1000.annot\")\n",
    "labels, ctab, names = nib.freesurfer.read_annot(aparc_file)\n",
    "\n",
    "\n",
    "\"\"\"\n",
    "Make a random vector of scalar data corresponding to a value for each region in\n",
    "the parcellation.\n",
    "\n",
    "\"\"\"\n",
    "rs = np.random.RandomState(4)\n",
    "roi_data = rs.uniform(.5, .75, size=len(names))\n",
    "\n",
    "\"\"\"\n",
    "Make a vector containing the data point at each vertex.\n",
    "\"\"\"\n",
    "vtx_data_lh = roi_data[labels]\n",
    "\n",
    "\n",
    "\"\"\"\n",
    "repeat for rh\n",
    "\"\"\"\n",
    "hemi = \"rh\"\n",
    "aparc_file = os.path.join(os.environ[\"SUBJECTS_DIR\"],\n",
    "                          subject_id, \"label\",\n",
    "                          hemi + \".Yeo2011_17Networks_N1000.annot\")\n",
    "labels, ctab, names = nib.freesurfer.read_annot(aparc_file)\n",
    "\n",
    "vtx_data_rh = roi_data[labels]"
   ]
  },
  {
   "cell_type": "markdown",
   "metadata": {},
   "source": [
    "## Deal with Left Hemisphere Data"
   ]
  },
  {
   "cell_type": "code",
   "execution_count": 264,
   "metadata": {
    "collapsed": true
   },
   "outputs": [],
   "source": [
    "currhem = \"lh\"\n",
    "\n",
    "\"\"\"\n",
    "Bring up the visualization.\n",
    "\"\"\"\n",
    "brain_lh = Brain(subject_id, currhem, \"inflated\")\n",
    "\n",
    "#brain = Brain(\"fsaverage\", \"split\", \"inflated\",\n",
    "#              views=['frontal'], background=\"white\")"
   ]
  },
  {
   "cell_type": "code",
   "execution_count": 265,
   "metadata": {
    "collapsed": false
   },
   "outputs": [],
   "source": [
    "\"\"\"\n",
    "Display these values on the brain. Use a sequential colormap (assuming\n",
    "these data move from low to high values), and add an alpha channel so the\n",
    "underlying anatomy is visible.\n",
    "#https://matplotlib.org/examples/color/colormaps_reference.html\n",
    "\"\"\"\n",
    "#brain.add_data(vtx_data_lh, .5, .75, colormap=\"GnBu\", alpha=.9, hemi=\"lh\")\n",
    "#brain.add_data(vtx_data_rh, .5, .75, colormap=\"GnBu\", alpha=.9, hemi=\"rh\")\n",
    "\n",
    "brain_lh.add_data(vtx_data_lh, .5, .75, colormap=\"RdYlBu\", alpha=.8, hemi=\"lh\")\n",
    "#brain_lh.close()\n"
   ]
  },
  {
   "cell_type": "code",
   "execution_count": 266,
   "metadata": {
    "collapsed": false
   },
   "outputs": [
    {
     "data": {
      "text/plain": [
       "'\\nNow we plot the foci on the inflated surface. We will map\\nthe foci onto the surface by finding the vertex on the \"white\"\\nmesh that is closest to the coordinate of each point we want\\nto display.\\n\\nWhile this is not a perfect transformation, it can give you\\nsome idea of where peaks from a volume-based analysis would\\nbe located on the surface.\\n\\nYou can use any valid matplotlib color for the foci; the\\ndefault is white.\\n'"
      ]
     },
     "execution_count": 266,
     "metadata": {},
     "output_type": "execute_result"
    }
   ],
   "source": [
    "\"\"\"\n",
    "Now we plot the foci on the inflated surface. We will map\n",
    "the foci onto the surface by finding the vertex on the \"white\"\n",
    "mesh that is closest to the coordinate of each point we want\n",
    "to display.\n",
    "\n",
    "While this is not a perfect transformation, it can give you\n",
    "some idea of where peaks from a volume-based analysis would\n",
    "be located on the surface.\n",
    "\n",
    "You can use any valid matplotlib color for the foci; the\n",
    "default is white.\n",
    "\"\"\"\n",
    "#brain.add_foci(coords_rh, map_surface=\"white\", color=\"green\", scale_factor = 0.75, hemi=\"rh\")\n",
    "\n",
    "#brain.add_foci(coords_lh, map_surface=\"white\", color=\"green\", scale_factor = 0.75, hemi=\"lh\")\n"
   ]
  },
  {
   "cell_type": "code",
   "execution_count": 267,
   "metadata": {
    "collapsed": false
   },
   "outputs": [
    {
     "name": "stdout",
     "output_type": "stream",
     "text": [
      "[-10, 66, 8]\n",
      "0\n",
      "[-18, 57, 0]\n",
      "2\n",
      "[-18, 58, -8]\n",
      "3\n",
      "[-24, 62, 22]\n",
      "4\n",
      "[-9, 59, 28]\n",
      "4\n",
      "[-21, 56, -8]\n",
      "4\n",
      "[-34, 52, -4]\n",
      "5\n",
      "[-30, 62, 18]\n",
      "8\n",
      "[-40, 52, 8]\n",
      "8\n"
     ]
    }
   ],
   "source": [
    "\"\"\"\n",
    "Map foci to this hemisphere.\n",
    "\n",
    "This works through iterating through a list of datapoints, such that data from the same grouping gets \\\\\n",
    "the same color code\n",
    "\"\"\"\n",
    "#for i in range(4,6):\n",
    "#    subcoords = eval(\"coords_lh_s\" + str(i))\n",
    "#    print(subcoords)\n",
    "#    brain_lh.add_foci(subcoords, map_surface=\"white\", color=datacolors[i], scale_factor = 0.5, hemi=\"lh\")    \n",
    "\n",
    "\n",
    "#for i in coords_lh:\n",
    "for i in range(len(coords_lh)):\n",
    "    #subcoords = eval(\"coords_lh_s\" + str(i))\n",
    "    #print(i)\n",
    "    print(coords_lh[i])\n",
    "    print(coords_lh_studkey[i])\n",
    "    if resizeblobs == 1:\n",
    "     brain_lh.add_foci(coords_lh[i], map_surface=\"white\", color=datacolors[coords_lh_studkey[i]], scale_factor = blobscale+(0.025*coords_lh_sz_key[i]), hemi=\"lh\")    \n",
    "    else:\n",
    "     brain_lh.add_foci(coords_lh[i], map_surface=\"white\", color=datacolors[coords_lh_studkey[i]], scale_factor = blobscale, hemi=\"lh\")   \n",
    "\n",
    "\n",
    "\n",
    "\n",
    "#brain_lh.add_foci(coords_lh_s1, map_surface=\"white\", color=\"b\", scale_factor = 0.5, hemi=\"lh\")\n",
    "#brain_lh.add_foci(coords_lh_s3, map_surface=\"white\", color=\"r\", scale_factor = 0.5, hemi=\"lh\")\n",
    "#brain_lh.add_foci(coords_lh_s4, map_surface=\"white\", color=\"c\", scale_factor = 0.5, hemi=\"lh\")\n",
    "#brain_lh.add_foci(coords_lh_s5, map_surface=\"white\", color=\"m\", scale_factor = 0.5, hemi=\"lh\")\n",
    "#brain_lh.add_foci(coords_lh_s6, map_surface=\"white\", color=\"y\", scale_factor = 0.5, hemi=\"lh\")\n"
   ]
  },
  {
   "cell_type": "code",
   "execution_count": 268,
   "metadata": {
    "collapsed": false
   },
   "outputs": [
    {
     "data": {
      "text/plain": [
       "((119.99999999999999,\n",
       "  80.0,\n",
       "  434.03852844238281,\n",
       "  array([ 0.        ,  0.48182297,  0.        ])),\n",
       " 106.739)"
      ]
     },
     "execution_count": 268,
     "metadata": {},
     "output_type": "execute_result"
    }
   ],
   "source": [
    "\"\"\"\n",
    "Various view and saving options do not play well with 'split' brain, and are best dealt with on a hemisphere basis\n",
    "\"\"\"\n",
    "\n",
    "#brain_rh.show_view(dict(azimuth=-42, elevation=105, distance=225,\n",
    "#                     focalpoint=[-30, -20, 15]))\n",
    "\n",
    "brain_lh.show_view('frontal')"
   ]
  },
  {
   "cell_type": "code",
   "execution_count": 269,
   "metadata": {
    "collapsed": false
   },
   "outputs": [],
   "source": [
    "\"\"\"\n",
    "save output\n",
    "\"\"\"\n",
    "#with multiple arguments, one can use a tuple as operand: 'foo %d, bar %d' % (foo, bar)\n",
    "brain_lh.save_image(\"%s_lat_%s.png\" % (subject_id, currhem))"
   ]
  },
  {
   "cell_type": "markdown",
   "metadata": {
    "collapsed": true
   },
   "source": [
    "## Deal with Right Hemisphere Data"
   ]
  },
  {
   "cell_type": "code",
   "execution_count": 256,
   "metadata": {
    "collapsed": true
   },
   "outputs": [],
   "source": [
    "currhem = \"rh\"\n",
    "\n",
    "\"\"\"\n",
    "Bring up the visualization.\n",
    "\"\"\"\n",
    "brain_rh = Brain(subject_id, currhem, \"inflated\")"
   ]
  },
  {
   "cell_type": "code",
   "execution_count": 257,
   "metadata": {
    "collapsed": false
   },
   "outputs": [],
   "source": [
    "\"\"\"\n",
    "Display these values on the brain. Use a sequential colormap (assuming\n",
    "these data move from low to high values), and add an alpha channel so the\n",
    "underlying anatomy is visible.\n",
    "\"\"\"\n",
    "brain_rh.add_data(vtx_data_rh, .5, .75, colormap=\"RdYlBu\", alpha=.8, hemi=\"rh\")\n"
   ]
  },
  {
   "cell_type": "code",
   "execution_count": 258,
   "metadata": {
    "collapsed": false
   },
   "outputs": [],
   "source": [
    "#print(len(coords_rh))\n",
    "#print(len(coords_rh_studkey))\n",
    "#print(coords_rh[11])\n",
    "#print(range(len(coords_rh)))\n",
    "\n",
    "for i in range(len(coords_rh)):\n",
    "    if resizeblobs == 1:\n",
    "     brain_rh.add_foci(coords_rh[i], map_surface=\"white\", color=datacolors[coords_rh_studkey[i]], scale_factor = blobscale+(0.025*coords_rh_sz_key[i]), hemi=\"rh\")    \n",
    "    else:\n",
    "     brain_rh.add_foci(coords_rh[i], map_surface=\"white\", color=datacolors[coords_rh_studkey[i]], scale_factor = blobscale, hemi=\"rh\")   \n"
   ]
  },
  {
   "cell_type": "code",
   "execution_count": 259,
   "metadata": {
    "collapsed": false
   },
   "outputs": [
    {
     "data": {
      "text/plain": [
       "((59.999999999999993,\n",
       "  80.0,\n",
       "  432.03718566894531,\n",
       "  array([ 0.        ,  0.27775192,  0.        ])),\n",
       " -106.739)"
      ]
     },
     "execution_count": 259,
     "metadata": {},
     "output_type": "execute_result"
    }
   ],
   "source": [
    "brain_rh.show_view('frontal')"
   ]
  },
  {
   "cell_type": "code",
   "execution_count": 260,
   "metadata": {
    "collapsed": false
   },
   "outputs": [],
   "source": [
    "\"\"\"\n",
    "save output\n",
    "\"\"\"\n",
    "#with multiple arguments, one can use a tuple as operand: 'foo %d, bar %d' % (foo, bar)\n",
    "brain_rh.save_image(\"%s_lat_%s.png\" % (subject_id, currhem))"
   ]
  },
  {
   "cell_type": "code",
   "execution_count": 261,
   "metadata": {
    "collapsed": false
   },
   "outputs": [],
   "source": [
    "###############################################################################\n",
    "# # Get a set of images as a montage, note the data could be saved if desired\n",
    "# #image = brain_rh.save_montage(None, ['l', 'v', 'm'], orientation='v')\n",
    "# image = brain.save_montage(None, ['l', 'v', 'm'], orientation='v')\n",
    "# brain.close()\n",
    "\n"
   ]
  },
  {
   "cell_type": "code",
   "execution_count": 262,
   "metadata": {
    "collapsed": true
   },
   "outputs": [],
   "source": [
    "###############################################################################\n",
    "# View created image\n",
    "# import pylab as pl\n",
    "# fig = pl.figure(figsize=(5, 3), facecolor='white')\n",
    "# ax = pl.axes(frameon=False)\n",
    "# ax.imshow(image, origin='upper')\n",
    "# pl.xticks(())\n",
    "# pl.yticks(())\n",
    "# pl.draw()\n",
    "# pl.show()"
   ]
  },
  {
   "cell_type": "code",
   "execution_count": 263,
   "metadata": {
    "collapsed": false
   },
   "outputs": [],
   "source": [
    "#utils.coord_to_label(subject_id, coords_rh[4], label='coord', #example_data/\n",
    "#                     hemi='rh', n_steps=25, map_surface=\"white\")\n",
    "#brain_rh.add_label('coord-rh.label', color=\"darkseagreen\", alpha=.8)"
   ]
  },
  {
   "cell_type": "code",
   "execution_count": null,
   "metadata": {
    "collapsed": true
   },
   "outputs": [],
   "source": []
  },
  {
   "cell_type": "code",
   "execution_count": null,
   "metadata": {
    "collapsed": true
   },
   "outputs": [],
   "source": []
  }
 ],
 "metadata": {
  "anaconda-cloud": {},
  "kernelspec": {
   "display_name": "Python [Root]",
   "language": "python",
   "name": "Python [Root]"
  },
  "language_info": {
   "codemirror_mode": {
    "name": "ipython",
    "version": 2
   },
   "file_extension": ".py",
   "mimetype": "text/x-python",
   "name": "python",
   "nbconvert_exporter": "python",
   "pygments_lexer": "ipython2",
   "version": "2.7.12"
  }
 },
 "nbformat": 4,
 "nbformat_minor": 0
}
