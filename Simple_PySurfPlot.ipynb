{
 "cells": [
  {
   "cell_type": "code",
   "execution_count": null,
   "metadata": {
    "collapsed": false
   },
   "outputs": [],
   "source": [
    "\"\"\"\n",
    "Deal with broken QT interface\n",
    "\n",
    "\"\"\""
   ]
  },
  {
   "cell_type": "code",
   "execution_count": 5,
   "metadata": {
    "collapsed": true
   },
   "outputs": [],
   "source": [
    "import os\n",
    "os.environ['QT_API'] = 'pyqt'\n",
    "os.environ['ETS_TOOLKIT'] = 'qt4'\n",
    "#os.environ['SUBJECTS_DIR'] = \"/path/to/subjects\"\n",
    "\n",
    "import sip\n",
    "sip.setapi('QDate',2)"
   ]
  },
  {
   "cell_type": "markdown",
   "metadata": {},
   "source": [
    "# Bring up the visualization window."
   ]
  },
  {
   "cell_type": "code",
   "execution_count": 6,
   "metadata": {
    "collapsed": false
   },
   "outputs": [
    {
     "name": "stdout",
     "output_type": "stream",
     "text": [
      "Automatically created module for IPython interactive environment\n"
     ]
    }
   ],
   "source": [
    "from surfer import Brain\n",
    "\n",
    "print(__doc__)\n",
    "\n"
   ]
  },
  {
   "cell_type": "code",
   "execution_count": 3,
   "metadata": {
    "collapsed": true
   },
   "outputs": [],
   "source": [
    "%gui qt"
   ]
  },
  {
   "cell_type": "markdown",
   "metadata": {},
   "source": [
    "# Visualize a blank brain"
   ]
  },
  {
   "cell_type": "code",
   "execution_count": 7,
   "metadata": {
    "collapsed": true
   },
   "outputs": [],
   "source": [
    "brain = Brain(\"fsaverage\", \"lh\", \"inflated\")"
   ]
  },
  {
   "cell_type": "markdown",
   "metadata": {},
   "source": [
    "# Try a variant with a map of ROIs"
   ]
  },
  {
   "cell_type": "code",
   "execution_count": 27,
   "metadata": {
    "collapsed": false
   },
   "outputs": [
    {
     "ename": "ValueError",
     "evalue": "hemi must not be None when both hemispheres are displayed",
     "output_type": "error",
     "traceback": [
      "\u001b[0;31m---------------------------------------------------------------------------\u001b[0m",
      "\u001b[0;31mValueError\u001b[0m                                Traceback (most recent call last)",
      "\u001b[0;32m<ipython-input-27-73de1adfaac5>\u001b[0m in \u001b[0;36m<module>\u001b[0;34m()\u001b[0m\n\u001b[1;32m      6\u001b[0m \u001b[0;31m# If the label lives in the normal place in the subjects directory,\u001b[0m\u001b[0;34m\u001b[0m\u001b[0;34m\u001b[0m\u001b[0m\n\u001b[1;32m      7\u001b[0m \u001b[0;31m# you can plot it by just using the name\u001b[0m\u001b[0;34m\u001b[0m\u001b[0;34m\u001b[0m\u001b[0m\n\u001b[0;32m----> 8\u001b[0;31m \u001b[0mbrain\u001b[0m\u001b[0;34m.\u001b[0m\u001b[0madd_label\u001b[0m\u001b[0;34m(\u001b[0m\u001b[0;34m\"BA1_exvivo\"\u001b[0m\u001b[0;34m)\u001b[0m\u001b[0;34m\u001b[0m\u001b[0m\n\u001b[0m\u001b[1;32m      9\u001b[0m \u001b[0;34m\u001b[0m\u001b[0m\n\u001b[1;32m     10\u001b[0m \u001b[0;31m## note, I had to add \"exvivo\" to get these to work. Documentation is out of date\u001b[0m\u001b[0;34m\u001b[0m\u001b[0;34m\u001b[0m\u001b[0m\n",
      "\u001b[0;32m/Users/thackery/anaconda/lib/python2.7/site-packages/surfer/viz.pyc\u001b[0m in \u001b[0;36madd_label\u001b[0;34m(self, label, color, alpha, scalar_thresh, borders, hemi, subdir)\u001b[0m\n\u001b[1;32m   1217\u001b[0m         \"\"\"\n\u001b[1;32m   1218\u001b[0m         \u001b[0;32mif\u001b[0m \u001b[0misinstance\u001b[0m\u001b[0;34m(\u001b[0m\u001b[0mlabel\u001b[0m\u001b[0;34m,\u001b[0m \u001b[0mstring_types\u001b[0m\u001b[0;34m)\u001b[0m\u001b[0;34m:\u001b[0m\u001b[0;34m\u001b[0m\u001b[0m\n\u001b[0;32m-> 1219\u001b[0;31m             \u001b[0mhemi\u001b[0m \u001b[0;34m=\u001b[0m \u001b[0mself\u001b[0m\u001b[0;34m.\u001b[0m\u001b[0m_check_hemi\u001b[0m\u001b[0;34m(\u001b[0m\u001b[0mhemi\u001b[0m\u001b[0;34m)\u001b[0m\u001b[0;34m\u001b[0m\u001b[0m\n\u001b[0m\u001b[1;32m   1220\u001b[0m             \u001b[0;32mif\u001b[0m \u001b[0mcolor\u001b[0m \u001b[0;32mis\u001b[0m \u001b[0mNone\u001b[0m\u001b[0;34m:\u001b[0m\u001b[0;34m\u001b[0m\u001b[0m\n\u001b[1;32m   1221\u001b[0m                 \u001b[0mcolor\u001b[0m \u001b[0;34m=\u001b[0m \u001b[0;34m\"crimson\"\u001b[0m\u001b[0;34m\u001b[0m\u001b[0m\n",
      "\u001b[0;32m/Users/thackery/anaconda/lib/python2.7/site-packages/surfer/viz.pyc\u001b[0m in \u001b[0;36m_check_hemi\u001b[0;34m(self, hemi)\u001b[0m\n\u001b[1;32m    755\u001b[0m         \u001b[0;32mif\u001b[0m \u001b[0mhemi\u001b[0m \u001b[0;32mis\u001b[0m \u001b[0mNone\u001b[0m\u001b[0;34m:\u001b[0m\u001b[0;34m\u001b[0m\u001b[0m\n\u001b[1;32m    756\u001b[0m             \u001b[0;32mif\u001b[0m \u001b[0mself\u001b[0m\u001b[0;34m.\u001b[0m\u001b[0m_hemi\u001b[0m \u001b[0;32mnot\u001b[0m \u001b[0;32min\u001b[0m \u001b[0;34m[\u001b[0m\u001b[0;34m'lh'\u001b[0m\u001b[0;34m,\u001b[0m \u001b[0;34m'rh'\u001b[0m\u001b[0;34m]\u001b[0m\u001b[0;34m:\u001b[0m\u001b[0;34m\u001b[0m\u001b[0m\n\u001b[0;32m--> 757\u001b[0;31m                 raise ValueError('hemi must not be None when both '\n\u001b[0m\u001b[1;32m    758\u001b[0m                                  'hemispheres are displayed')\n\u001b[1;32m    759\u001b[0m             \u001b[0;32melse\u001b[0m\u001b[0;34m:\u001b[0m\u001b[0;34m\u001b[0m\u001b[0m\n",
      "\u001b[0;31mValueError\u001b[0m: hemi must not be None when both hemispheres are displayed"
     ]
    }
   ],
   "source": [
    "subject_id = \"fsaverage\"\n",
    "hemi = \"split\"\n",
    "surf = \"smoothwm\"\n",
    "brain = Brain(subject_id, hemi, surf)\n",
    "\n",
    "# If the label lives in the normal place in the subjects directory,\n",
    "# you can plot it by just using the name\n",
    "brain.add_label(\"BA1_exvivo\") \n",
    "\n",
    "## note, I had to add \"exvivo\" to get these to work. Documentation is out of date\n",
    "\n",
    "# Some labels have an associated scalar value at each ID in the label.\n",
    "# For example, they may be probabilistically defined. You can threshold\n",
    "# what vertices show up in the label using this scalar data\n",
    "brain.add_label(\"BA1_exvivo\", color=\"blue\", scalar_thresh=.5)\n",
    "\n",
    "# Or you can give a path to a label in an arbitrary location\n",
    "subj_dir = os.environ[\"SUBJECTS_DIR\"]\n",
    "label_file = os.path.join(subj_dir, subject_id,\n",
    "                          \"label\", \"%s.MT_exvivo.label\" % hemi)\n",
    "brain.add_label(label_file)\n",
    "\n",
    "# By default the label is 'filled-in', but you can\n",
    "# plot just the label boundaries\n",
    "brain.add_label(\"BA44_exvivo\", borders=True)\n",
    "\n",
    "# You can also control the opacity of the label color\n",
    "brain.add_label(\"BA6_exvivo\", alpha=.7)\n",
    "\n",
    "# Finally, you can plot the label in any color you want.\n",
    "brain.show_view(dict(azimuth=-42, elevation=105, distance=225,\n",
    "                     focalpoint=[-30, -20, 15]))\n",
    "\n",
    "# Use any valid matplotlib color.\n",
    "brain.add_label(\"V1_exvivo\", color=\"steelblue\", alpha=.6)\n",
    "brain.add_label(\"V2_exvivo\", color=\"#FF6347\", alpha=.6)\n",
    "brain.add_label(\"entorhinal_exvivo\", color=(.2, 1, .5), alpha=.6)"
   ]
  },
  {
   "cell_type": "markdown",
   "metadata": {},
   "source": [
    "# Try a variant with a functional map"
   ]
  },
  {
   "cell_type": "code",
   "execution_count": 23,
   "metadata": {
    "collapsed": true
   },
   "outputs": [],
   "source": [
    "\n",
    "\"\"\"\n",
    "Bring up the visualization window.\n",
    "\"\"\"\n",
    "brain = Brain(\"fsaverage\", \"lh\", \"inflated\")\n",
    "\n",
    "\"\"\"\n",
    "Get a path to the overlay file.\n",
    "\"\"\"\n",
    "overlay_file = \"lh.sig.nii.gz\"\n",
    "\n"
   ]
  },
  {
   "cell_type": "code",
   "execution_count": 24,
   "metadata": {
    "collapsed": true
   },
   "outputs": [],
   "source": [
    "\"\"\"\n",
    "Display the overlay on the surface using the defaults to control thresholding\n",
    "and colorbar saturation.  These can be set through your config file.\n",
    "\"\"\"\n",
    "brain.add_overlay(overlay_file)"
   ]
  },
  {
   "cell_type": "code",
   "execution_count": 25,
   "metadata": {
    "collapsed": false
   },
   "outputs": [],
   "source": [
    "\"\"\"\n",
    "You can then turn the overlay off.\n",
    "\"\"\"\n",
    "brain.overlays[\"sig\"].remove()\n",
    "\n",
    "\"\"\"\n",
    "Now add the overlay again, but this time with set threshold and showing only\n",
    "the positive activations.\n",
    "\"\"\"\n",
    "brain.add_overlay(overlay_file, min=5, max=20, sign=\"pos\")"
   ]
  },
  {
   "cell_type": "markdown",
   "metadata": {},
   "source": [
    "Try some spheres..."
   ]
  },
  {
   "cell_type": "code",
   "execution_count": 30,
   "metadata": {
    "collapsed": false
   },
   "outputs": [
    {
     "name": "stdout",
     "output_type": "stream",
     "text": [
      "\n",
      "Finally, plot the foci using the coords_as_verts option to\n",
      "center each sphereoid at its vertex id.\n",
      "\n"
     ]
    }
   ],
   "source": [
    "import os\n",
    "import os.path as op\n",
    "from numpy import arange\n",
    "from numpy.random import permutation\n",
    "import nibabel as nib\n",
    "from surfer import Brain\n",
    "\n",
    "print(__doc__)\n",
    "\n",
    "subject_id = \"fsaverage\"\n",
    "subjects_dir = os.environ[\"SUBJECTS_DIR\"]\n",
    "\n",
    "\"\"\"\n",
    "Bring up the visualization.\n",
    "\"\"\"\n",
    "brain = Brain(subject_id, \"lh\", \"inflated\")\n",
    "\n",
    "\"\"\"\n",
    "First we'll get a set of stereotaxic foci in the MNI\n",
    "coordinate system. These might be peak activations from\n",
    "a volume based analysis.\n",
    "\"\"\"\n",
    "coords = [[-36, 18, -3],\n",
    "          [-43, 25, 24],\n",
    "          [-48, 26, -2]]\n",
    "\n",
    "\"\"\"\n",
    "Now we plot the foci on the inflated surface. We will map\n",
    "the foci onto the surface by finding the vertex on the \"white\"\n",
    "mesh that is closest to the coordinate of each point we want\n",
    "to display.\n",
    "\n",
    "While this is not a perfect transformation, it can give you\n",
    "some idea of where peaks from a volume-based analysis would\n",
    "be located on the surface.\n",
    "\n",
    "You can use any valid matplotlib color for the foci; the\n",
    "default is white.\n",
    "\"\"\"\n",
    "brain.add_foci(coords, map_surface=\"white\", color=\"gold\")\n",
    "\n",
    "\"\"\"\n",
    "You can also plot foci with a set of surface vertex ids.\n",
    "For instance, you might want to plot the peak activation\n",
    "within an ROI for each of your indivdiual subjects over\n",
    "the group activation map.\n",
    "\n",
    "Here, we will just demonstrate with a set of randomly\n",
    "choosen vertices from within the superior temporal sulcus.\n",
    "\n",
    "First, we load in the Destrieux parcellation annotation file\n",
    "and find 10 random vertices within the STS.\n",
    "\"\"\"\n",
    "annot_path = op.join(subjects_dir, subject_id, \"label/lh.aparc.a2009s.annot\")\n",
    "ids, ctab, names = nib.freesurfer.read_annot(annot_path)\n",
    "verts = arange(0, len(ids))\n",
    "coords = permutation(verts[ids == 74])[:10]\n",
    "\n",
    "\"\"\"\n",
    "You can also control the size of the focus glpyhs.\n",
    "We'll make these a little bit smaller than our\n",
    "other foci.\n",
    "\"\"\"\n",
    "scale_factor = 0.7\n",
    "\n",
    "\"\"\"\n",
    "Finally, plot the foci using the coords_as_verts option to\n",
    "center each sphereoid at its vertex id.\n",
    "\"\"\"\n",
    "brain.add_foci(coords, coords_as_verts=True,\n",
    "               scale_factor=scale_factor, color=\"#A52A2A\")"
   ]
  },
  {
   "cell_type": "markdown",
   "metadata": {},
   "source": []
  }
 ],
 "metadata": {
  "anaconda-cloud": {},
  "kernelspec": {
   "display_name": "Python [Root]",
   "language": "python",
   "name": "Python [Root]"
  },
  "language_info": {
   "codemirror_mode": {
    "name": "ipython",
    "version": 2
   },
   "file_extension": ".py",
   "mimetype": "text/x-python",
   "name": "python",
   "nbconvert_exporter": "python",
   "pygments_lexer": "ipython2",
   "version": "2.7.12"
  }
 },
 "nbformat": 4,
 "nbformat_minor": 0
}
